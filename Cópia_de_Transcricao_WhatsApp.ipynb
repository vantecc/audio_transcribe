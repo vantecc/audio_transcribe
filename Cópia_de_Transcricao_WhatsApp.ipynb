{
  "nbformat": 4,
  "nbformat_minor": 0,
  "metadata": {
    "colab": {
      "provenance": [],
      "mount_file_id": "1F1jAyG_1FjbQOSFR7sdK1q8h_N6EGl4s",
      "authorship_tag": "ABX9TyP1Em6iXxSjT/NR/nGKyZT1",
      "include_colab_link": true
    },
    "kernelspec": {
      "name": "python3",
      "display_name": "Python 3"
    },
    "language_info": {
      "name": "python"
    }
  },
  "cells": [
    {
      "cell_type": "markdown",
      "metadata": {
        "id": "view-in-github",
        "colab_type": "text"
      },
      "source": [
        "<a href=\"https://colab.research.google.com/github/vantecc/audio_transcribe/blob/main/C%C3%B3pia_de_Transcricao_WhatsApp.ipynb\" target=\"_parent\"><img src=\"https://colab.research.google.com/assets/colab-badge.svg\" alt=\"Open In Colab\"/></a>"
      ]
    },
    {
      "cell_type": "code",
      "source": [
        "!pip install SpeechRecognition"
      ],
      "metadata": {
        "colab": {
          "base_uri": "https://localhost:8080/"
        },
        "id": "SuvmaRWhAzQT",
        "outputId": "8697e3a7-a1e3-4f9a-e7b0-b4be8edc49a8"
      },
      "execution_count": null,
      "outputs": [
        {
          "output_type": "stream",
          "name": "stdout",
          "text": [
            "Collecting SpeechRecognition\n",
            "  Downloading SpeechRecognition-3.11.0-py2.py3-none-any.whl.metadata (28 kB)\n",
            "Requirement already satisfied: requests>=2.26.0 in /usr/local/lib/python3.10/dist-packages (from SpeechRecognition) (2.32.3)\n",
            "Requirement already satisfied: typing-extensions in /usr/local/lib/python3.10/dist-packages (from SpeechRecognition) (4.12.2)\n",
            "Requirement already satisfied: charset-normalizer<4,>=2 in /usr/local/lib/python3.10/dist-packages (from requests>=2.26.0->SpeechRecognition) (3.4.0)\n",
            "Requirement already satisfied: idna<4,>=2.5 in /usr/local/lib/python3.10/dist-packages (from requests>=2.26.0->SpeechRecognition) (3.10)\n",
            "Requirement already satisfied: urllib3<3,>=1.21.1 in /usr/local/lib/python3.10/dist-packages (from requests>=2.26.0->SpeechRecognition) (2.2.3)\n",
            "Requirement already satisfied: certifi>=2017.4.17 in /usr/local/lib/python3.10/dist-packages (from requests>=2.26.0->SpeechRecognition) (2024.8.30)\n",
            "Downloading SpeechRecognition-3.11.0-py2.py3-none-any.whl (32.8 MB)\n",
            "\u001b[2K   \u001b[90m━━━━━━━━━━━━━━━━━━━━━━━━━━━━━━━━━━━━━━━━\u001b[0m \u001b[32m32.8/32.8 MB\u001b[0m \u001b[31m47.9 MB/s\u001b[0m eta \u001b[36m0:00:00\u001b[0m\n",
            "\u001b[?25hInstalling collected packages: SpeechRecognition\n",
            "Successfully installed SpeechRecognition-3.11.0\n"
          ]
        }
      ]
    },
    {
      "cell_type": "code",
      "source": [
        "!pip install pydub"
      ],
      "metadata": {
        "colab": {
          "base_uri": "https://localhost:8080/"
        },
        "id": "GaiyLykR15Ys",
        "outputId": "8abad7f1-7235-4a9a-dc15-a24cd5281d63"
      },
      "execution_count": null,
      "outputs": [
        {
          "output_type": "stream",
          "name": "stdout",
          "text": [
            "Collecting pydub\n",
            "  Downloading pydub-0.25.1-py2.py3-none-any.whl.metadata (1.4 kB)\n",
            "Downloading pydub-0.25.1-py2.py3-none-any.whl (32 kB)\n",
            "Installing collected packages: pydub\n",
            "Successfully installed pydub-0.25.1\n"
          ]
        }
      ]
    },
    {
      "cell_type": "code",
      "source": [
        "from google.colab import drive\n",
        "drive.mount('/content/drive')"
      ],
      "metadata": {
        "colab": {
          "base_uri": "https://localhost:8080/"
        },
        "id": "4Xj6cEF6O7G1",
        "outputId": "327b0c66-1549-45e8-c922-41095966fb19"
      },
      "execution_count": null,
      "outputs": [
        {
          "output_type": "stream",
          "name": "stdout",
          "text": [
            "Drive already mounted at /content/drive; to attempt to forcibly remount, call drive.mount(\"/content/drive\", force_remount=True).\n"
          ]
        }
      ]
    },
    {
      "cell_type": "code",
      "source": [
        "from pydub import AudioSegment\n",
        "import speech_recognition as sr\n",
        "from google.colab import files\n",
        "\n",
        "import zipfile\n",
        "import os\n",
        "\n",
        "\n",
        "wav_files = [file for file in os.listdir(abspath) if file.endswith('.wav')]\n",
        "\n",
        "\n",
        "zip_name = os.path.join(abspath, \"arquivos_convertidos.zip\")\n",
        "\n",
        "\n",
        "with zipfile.ZipFile(zip_name, 'w') as zipf:\n",
        "\n",
        "    if os.path.exists(output_file):\n",
        "        zipf.write(output_file, os.path.basename(output_file))\n",
        "\n",
        "\n",
        "    for wav_file in wav_files:\n",
        "        full_wav_path = os.path.join(abspath, wav_file)\n",
        "        zipf.write(full_wav_path, os.path.basename(full_wav_path))\n",
        "\n",
        "print(f\"Arquivo ZIP gerado: {zip_name}\")\n",
        "\n",
        "\n",
        "from google.colab import files\n",
        "files.download(zip_name)\n",
        "\n",
        "\n",
        "\n",
        "\n",
        "path = \"/content/drive/MyDrive/Colab Notebooks/\"\n",
        "abspath = os.path.abspath(path)\n",
        "dirs = os.listdir(abspath)\n",
        "\n",
        "oggs = []\n",
        "for file in dirs:\n",
        "    if file.endswith('.ogg'):\n",
        "        oggs.append(file)\n",
        "\n",
        "print(\"Arquivos a processar:\", oggs)\n",
        "\n",
        "\n",
        "def ogg_to_wav(name):\n",
        "    full_path = os.path.join(abspath, name)\n",
        "    song = AudioSegment.from_ogg(full_path)\n",
        "    export_name = os.path.splitext(name)[0]\n",
        "    wav_file = os.path.join(abspath, export_name + '.wav')\n",
        "    song.export(wav_file, format='wav')\n",
        "    return wav_file\n",
        "\n",
        "\n",
        "r = sr.Recognizer()\n",
        "\n",
        "\n",
        "for ogg in oggs:\n",
        "    print(f\"Processando o arquivo: {ogg}\")\n",
        "    wav_file = ogg_to_wav(ogg)\n",
        "    print(f\"Arquivo convertido para WAV: {wav_file}\")\n",
        "\n",
        "\n",
        "    with sr.AudioFile(wav_file) as source:\n",
        "        audio_data = r.record(source)\n",
        "        try:\n",
        "\n",
        "            text = r.recognize_google(audio_data, language='pt-BR')\n",
        "            print(f\"Transcrição do arquivo {ogg}: {text}\")\n",
        "        except sr.UnknownValueError:\n",
        "            print(f\"Não foi possível entender o áudio do arquivo: {ogg}\")\n",
        "        except sr.RequestError as e:\n",
        "            print(f\"Erro na API para o arquivo {ogg}: {e}\")\n",
        "\n",
        "output_file = os.path.join(abspath, \"transcricoes.txt\")\n",
        "\n",
        "with open(output_file, \"w\", encoding=\"utf-8\") as f:\n",
        "    for ogg in oggs:\n",
        "        print(f\"Processando o arquivo: {ogg}\")\n",
        "        wav_file = ogg_to_wav(ogg)\n",
        "        print(f\"Arquivo convertido para WAV: {wav_file}\")\n",
        "\n",
        "\n",
        "        with sr.AudioFile(wav_file) as source:\n",
        "            audio_data = r.record(source)\n",
        "            try:\n",
        "\n",
        "                text = r.recognize_google(audio_data, language='pt-BR')\n",
        "                f.write(f\"Transcrição do arquivo {ogg}:\\n{text}\\n\\n\")\n",
        "                print(f\"Transcrição do arquivo {ogg}: {text}\")\n",
        "            except sr.UnknownValueError:\n",
        "                f.write(f\"Não foi possível entender o áudio do arquivo: {ogg}\\n\\n\")\n",
        "                print(f\"Não foi possível entender o áudio do arquivo: {ogg}\")\n",
        "            except sr.RequestError as e:\n",
        "                f.write(f\"Erro na API para o arquivo {ogg}: {e}\\n\\n\")\n",
        "                print(f\"Erro na API para o arquivo {ogg}: {e}\")\n",
        "\n",
        "print(f\"Transcrições salvas no arquivo: {output_file}\")\n",
        "\n",
        "\n",
        "\n"
      ],
      "metadata": {
        "colab": {
          "base_uri": "https://localhost:8080/",
          "height": 193
        },
        "id": "WeP0b1BHOkDW",
        "outputId": "6090260b-c014-4920-868b-57f54396b398"
      },
      "execution_count": null,
      "outputs": [
        {
          "output_type": "stream",
          "name": "stdout",
          "text": [
            "Arquivo ZIP gerado: /content/drive/MyDrive/Colab Notebooks/arquivos_convertidos.zip\n"
          ]
        },
        {
          "output_type": "display_data",
          "data": {
            "text/plain": [
              "<IPython.core.display.Javascript object>"
            ],
            "application/javascript": [
              "\n",
              "    async function download(id, filename, size) {\n",
              "      if (!google.colab.kernel.accessAllowed) {\n",
              "        return;\n",
              "      }\n",
              "      const div = document.createElement('div');\n",
              "      const label = document.createElement('label');\n",
              "      label.textContent = `Downloading \"${filename}\": `;\n",
              "      div.appendChild(label);\n",
              "      const progress = document.createElement('progress');\n",
              "      progress.max = size;\n",
              "      div.appendChild(progress);\n",
              "      document.body.appendChild(div);\n",
              "\n",
              "      const buffers = [];\n",
              "      let downloaded = 0;\n",
              "\n",
              "      const channel = await google.colab.kernel.comms.open(id);\n",
              "      // Send a message to notify the kernel that we're ready.\n",
              "      channel.send({})\n",
              "\n",
              "      for await (const message of channel.messages) {\n",
              "        // Send a message to notify the kernel that we're ready.\n",
              "        channel.send({})\n",
              "        if (message.buffers) {\n",
              "          for (const buffer of message.buffers) {\n",
              "            buffers.push(buffer);\n",
              "            downloaded += buffer.byteLength;\n",
              "            progress.value = downloaded;\n",
              "          }\n",
              "        }\n",
              "      }\n",
              "      const blob = new Blob(buffers, {type: 'application/binary'});\n",
              "      const a = document.createElement('a');\n",
              "      a.href = window.URL.createObjectURL(blob);\n",
              "      a.download = filename;\n",
              "      div.appendChild(a);\n",
              "      a.click();\n",
              "      div.remove();\n",
              "    }\n",
              "  "
            ]
          },
          "metadata": {}
        },
        {
          "output_type": "display_data",
          "data": {
            "text/plain": [
              "<IPython.core.display.Javascript object>"
            ],
            "application/javascript": [
              "download(\"download_7bcb10a4-c0c9-4612-ab40-5c1e5014c087\", \"arquivos_convertidos.zip\", 4366341)"
            ]
          },
          "metadata": {}
        },
        {
          "output_type": "stream",
          "name": "stdout",
          "text": [
            "Arquivos a processar: ['WhatsApp Ptt 2024-11-30 at 10.55.23 AM.ogg']\n",
            "Processando o arquivo: WhatsApp Ptt 2024-11-30 at 10.55.23 AM.ogg\n",
            "Arquivo convertido para WAV: /content/drive/MyDrive/Colab Notebooks/WhatsApp Ptt 2024-11-30 at 10.55.23 AM.wav\n",
            "Transcrição do arquivo WhatsApp Ptt 2024-11-30 at 10.55.23 AM.ogg: rapaz cara não Dessa vez eu vou me pronunciar meu comandante Everton neném melhor vigilante que eu conheço botei foi fé agora viu tá magro emagreceu aí não tem quem não diga que você emagreceu essa foto aí rapaz mas também deve estar numa dieta muito pesada viu\n",
            "Processando o arquivo: WhatsApp Ptt 2024-11-30 at 10.55.23 AM.ogg\n",
            "Arquivo convertido para WAV: /content/drive/MyDrive/Colab Notebooks/WhatsApp Ptt 2024-11-30 at 10.55.23 AM.wav\n",
            "Transcrição do arquivo WhatsApp Ptt 2024-11-30 at 10.55.23 AM.ogg: rapaz cara não Dessa vez eu vou me pronunciar meu comandante Everton neném melhor vigilante que eu conheço botei foi fé agora viu tá magro emagreceu aí não tem quem não diga que você emagreceu essa foto aí rapaz mas também deve estar numa dieta muito pesada viu\n",
            "Transcrições salvas no arquivo: /content/drive/MyDrive/Colab Notebooks/transcricoes.txt\n"
          ]
        }
      ]
    },
    {
      "cell_type": "markdown",
      "source": [
        "\n",
        "# Relatório do Código de Transcrição e Conversão de Áudio\n",
        "\n",
        "## Introdução\n",
        "O objetivo deste relatório é explicar, etapa por etapa, o funcionamento do código que converte arquivos de áudio `.ogg` para `.wav`, realiza a transcrição do conteúdo dos áudios utilizando a API de Reconhecimento de Fala do Google, e organiza os resultados em um arquivo `.txt`. O código também gera um arquivo ZIP contendo todos os arquivos `.wav` e as transcrições para facilitar o download.\n",
        "\n",
        "---\n",
        "\n",
        "## Explicação do Código\n",
        "\n",
        "### 1. **Importação das Bibliotecas**\n",
        "As bibliotecas utilizadas no código são:\n",
        "\n",
        "- `os`: Para manipular diretórios e arquivos.\n",
        "- `pydub`: Para processar e converter arquivos de áudio de `.ogg` para `.wav`.\n",
        "- `speech_recognition`: Para realizar a transcrição do áudio.\n",
        "- `zipfile`: Para compactar os arquivos em um único ZIP.\n",
        "- `google.colab.files`: Para permitir o download dos arquivos no ambiente Google Colab.\n",
        "\n",
        "```python\n",
        "from pydub import AudioSegment\n",
        "import speech_recognition as sr\n",
        "from google.colab import files\n",
        "import zipfile\n",
        "import os\n",
        "```\n",
        "\n",
        "---\n",
        "\n",
        "### 2. **Configuração do Caminho**\n",
        "Define o caminho onde os arquivos `.ogg` estão armazenados, geralmente no Google Drive, e lista os arquivos disponíveis no diretório.\n",
        "\n",
        "```python\n",
        "path = \"/content/drive/MyDrive/Colab Notebooks/\"\n",
        "abspath = os.path.abspath(path)\n",
        "dirs = os.listdir(abspath)\n",
        "```\n",
        "\n",
        "A variável `dirs` armazena todos os arquivos do diretório. Depois, é criada uma lista chamada `oggs` que filtra apenas os arquivos com extensão `.ogg`.\n",
        "\n",
        "```python\n",
        "oggs = []\n",
        "for file in dirs:\n",
        "    if file.endswith('.ogg'):  \n",
        "        oggs.append(file)\n",
        "print(\"Arquivos a processar:\", oggs)\n",
        "```\n",
        "\n",
        "---\n",
        "\n",
        "### 3. **Função de Conversão de Áudio**\n",
        "A função `ogg_to_wav` é responsável por converter os arquivos `.ogg` para `.wav`. Essa conversão é necessária porque a API de Reconhecimento de Fala do Google não suporta arquivos `.ogg`.\n",
        "\n",
        "```python\n",
        "def ogg_to_wav(name):\n",
        "    full_path = os.path.join(abspath, name)  # Caminho completo do arquivo .ogg\n",
        "    song = AudioSegment.from_ogg(full_path)  # Lê o arquivo .ogg\n",
        "    export_name = os.path.splitext(name)[0]  # Remove a extensão .ogg\n",
        "    wav_file = os.path.join(abspath, export_name + '.wav')  # Cria o nome do .wav\n",
        "    song.export(wav_file, format='wav')  # Exporta como .wav\n",
        "    return wav_file\n",
        "```\n",
        "\n",
        "---\n",
        "\n",
        "### 4. **Inicialização do Reconhecedor**\n",
        "O reconhecedor de voz da biblioteca `speech_recognition` é inicializado:\n",
        "\n",
        "```python\n",
        "r = sr.Recognizer()\n",
        "```\n",
        "\n",
        "---\n",
        "\n",
        "### 5. **Processamento e Transcrição**\n",
        "O código processa cada arquivo `.ogg`, converte-o para `.wav` e realiza a transcrição:\n",
        "\n",
        "```python\n",
        "for ogg in oggs:\n",
        "    print(f\"Processando o arquivo: {ogg}\")\n",
        "    wav_file = ogg_to_wav(ogg)  # Converte para .wav\n",
        "    print(f\"Arquivo convertido para WAV: {wav_file}\")\n",
        "\n",
        "    with sr.AudioFile(wav_file) as source:\n",
        "        audio_data = r.record(source)  # Lê o áudio\n",
        "        try:\n",
        "            text = r.recognize_google(audio_data, language='pt-BR')  # Transcreve\n",
        "            print(f\"Transcrição do arquivo {ogg}: {text}\")\n",
        "        except sr.UnknownValueError:\n",
        "            print(f\"Não foi possível entender o áudio do arquivo: {ogg}\")\n",
        "        except sr.RequestError as e:\n",
        "            print(f\"Erro na API para o arquivo {ogg}: {e}\")\n",
        "```\n",
        "\n",
        "**Tratamento de Erros:**\n",
        "- `UnknownValueError`: O áudio não pôde ser entendido.\n",
        "- `RequestError`: Problemas de conexão com a API.\n",
        "\n",
        "---\n",
        "\n",
        "### 6. **Salvando as Transcrições**\n",
        "As transcrições são salvas em um arquivo `transcricoes.txt`:\n",
        "\n",
        "```python\n",
        "output_file = os.path.join(abspath, \"transcricoes.txt\")\n",
        "\n",
        "with open(output_file, \"w\", encoding=\"utf-8\") as f:\n",
        "    for ogg in oggs:\n",
        "        wav_file = ogg_to_wav(ogg)\n",
        "        with sr.AudioFile(wav_file) as source:\n",
        "            audio_data = r.record(source)\n",
        "            try:\n",
        "                text = r.recognize_google(audio_data, language='pt-BR')\n",
        "                f.write(f\"Transcrição do arquivo {ogg}:\n",
        "{text}\n",
        "\n",
        "\")\n",
        "            except sr.UnknownValueError:\n",
        "                f.write(f\"Não foi possível entender o áudio do arquivo: {ogg}\n",
        "\n",
        "\")\n",
        "            except sr.RequestError as e:\n",
        "                f.write(f\"Erro na API para o arquivo {ogg}: {e}\n",
        "\n",
        "\")\n",
        "print(f\"Transcrições salvas no arquivo: {output_file}\")\n",
        "```\n",
        "\n",
        "---\n",
        "\n",
        "### 7. **Compactação dos Arquivos**\n",
        "O código compacta os arquivos `.wav` e o arquivo `transcricoes.txt` em um arquivo ZIP:\n",
        "\n",
        "```python\n",
        "wav_files = [file for file in os.listdir(abspath) if file.endswith('.wav')]\n",
        "zip_name = os.path.join(abspath, \"arquivos_convertidos.zip\")\n",
        "\n",
        "with zipfile.ZipFile(zip_name, 'w') as zipf:\n",
        "    if os.path.exists(output_file):\n",
        "        zipf.write(output_file, os.path.basename(output_file))\n",
        "    for wav_file in wav_files:\n",
        "        full_wav_path = os.path.join(abspath, wav_file)\n",
        "        zipf.write(full_wav_path, os.path.basename(full_wav_path))\n",
        "print(f\"Arquivo ZIP gerado: {zip_name}\")\n",
        "```\n",
        "\n",
        "---\n",
        "\n",
        "### 8. **Download dos Arquivos**\n",
        "O arquivo ZIP é disponibilizado para download:\n",
        "\n",
        "```python\n",
        "files.download(zip_name)\n",
        "```\n",
        "\n",
        "---\n",
        "\n",
        "## Conclusão\n",
        "O código realiza com sucesso as seguintes tarefas:\n",
        "1. Identifica arquivos `.ogg` no diretório especificado.\n",
        "2. Converte os arquivos `.ogg` para `.wav`.\n",
        "3. Transcreve o conteúdo dos arquivos de áudio para texto.\n",
        "4. Salva as transcrições em um arquivo `.txt`.\n",
        "5. Compacta todos os arquivos em um ZIP e disponibiliza para download.\n",
        "\n",
        "Essa solução é prática para automatizar a conversão e transcrição de arquivos de áudio, especialmente em um ambiente como o Google Colab.\n",
        "\n",
        "\n"
      ],
      "metadata": {
        "id": "Cy20cjB-QfMO"
      }
    }
  ]
}